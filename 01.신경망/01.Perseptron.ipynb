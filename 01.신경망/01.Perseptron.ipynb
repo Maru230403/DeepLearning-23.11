{
 "cells": [
  {
   "cell_type": "markdown",
   "metadata": {},
   "source": [
    "## Perceptron"
   ]
  },
  {
   "cell_type": "code",
   "execution_count": 1,
   "metadata": {},
   "outputs": [],
   "source": [
    "import numpy as np"
   ]
  },
  {
   "cell_type": "markdown",
   "metadata": {},
   "source": [
    "- AND gate"
   ]
  },
  {
   "cell_type": "code",
   "execution_count": 5,
   "metadata": {},
   "outputs": [
    {
     "name": "stdout",
     "output_type": "stream",
     "text": [
      "(0, 0) :\t-1\n",
      "(0, 1) :\t0\n",
      "(1, 0) :\t0\n",
      "(1, 1) :\t1\n"
     ]
    }
   ],
   "source": [
    "# 가중합\n",
    "weight = np.array([1,1])\n",
    "bias = -1\n",
    "for x1, x2 in [(0,0),(0,1),(1,0),(1,1)]:\n",
    "    sum = weight[0] * x1 + weight[1] * x2 + bias\n",
    "    print(f'({x1}, {x2}) :\\t{sum}')"
   ]
  },
  {
   "cell_type": "code",
   "execution_count": 6,
   "metadata": {},
   "outputs": [
    {
     "name": "stdout",
     "output_type": "stream",
     "text": [
      "(0, 0) :\t-1\t0\n",
      "(0, 1) :\t0\t0\n",
      "(1, 0) :\t0\t0\n",
      "(1, 1) :\t1\t1\n"
     ]
    }
   ],
   "source": [
    "# Step 활성화 함수\n",
    "for x1, x2 in [(0,0),(0,1),(1,0),(1,1)]:\n",
    "    sum = weight[0] * x1 + weight[1] * x2 + bias\n",
    "    result = 1 if sum > 0 else 0\n",
    "    print(f'({x1}, {x2}) :\\t{sum}\\t{result}')"
   ]
  },
  {
   "cell_type": "code",
   "execution_count": 7,
   "metadata": {},
   "outputs": [
    {
     "name": "stdout",
     "output_type": "stream",
     "text": [
      "(0, 0) :\t-1\t0\n",
      "(0, 1) :\t0\t0\n",
      "(1, 0) :\t0\t0\n",
      "(1, 1) :\t1\t1\n"
     ]
    }
   ],
   "source": [
    "for x in [(0,0),(0,1),(1,0),(1,1)]:     # x로 받기\n",
    "    sum = np.dot(weight, x) + bias      # np.dot을 사용하기\n",
    "    result = 1 if sum > 0 else 0\n",
    "    print(f'{x} :\\t{sum}\\t{result}')    # x로 받기"
   ]
  },
  {
   "cell_type": "code",
   "execution_count": 8,
   "metadata": {},
   "outputs": [],
   "source": [
    "# 함수로 만들기\n",
    "def AND_gate(x):\n",
    "    weight = np.array([1,1])\n",
    "    bias = -1\n",
    "    sum = np.dot(weight, x) + bias\n",
    "    return 1 if sum > 0 else 0"
   ]
  },
  {
   "cell_type": "code",
   "execution_count": 10,
   "metadata": {},
   "outputs": [
    {
     "name": "stdout",
     "output_type": "stream",
     "text": [
      "(0, 0) :\t0\n",
      "(0, 1) :\t0\n",
      "(1, 0) :\t0\n",
      "(1, 1) :\t1\n"
     ]
    }
   ],
   "source": [
    "# AND_gate 만듬\n",
    "for x in [(0,0),(0,1),(1,0),(1,1)]:\n",
    "    print(f'{x} :\\t{AND_gate(x)}') "
   ]
  },
  {
   "cell_type": "markdown",
   "metadata": {},
   "source": [
    "- OR gate"
   ]
  },
  {
   "cell_type": "code",
   "execution_count": 11,
   "metadata": {},
   "outputs": [],
   "source": [
    "def OR_gate(x):\n",
    "    weight = np.array([2,2])\n",
    "    bias = -1\n",
    "    sum = np.dot(weight, x) + bias\n",
    "    return 1 if sum > 0 else 0"
   ]
  },
  {
   "cell_type": "code",
   "execution_count": 12,
   "metadata": {},
   "outputs": [
    {
     "name": "stdout",
     "output_type": "stream",
     "text": [
      "(0, 0) :\t0\n",
      "(0, 1) :\t1\n",
      "(1, 0) :\t1\n",
      "(1, 1) :\t1\n"
     ]
    }
   ],
   "source": [
    "for x in [(0,0),(0,1),(1,0),(1,1)]:\n",
    "    print(f'{x} :\\t{OR_gate(x)}') "
   ]
  },
  {
   "cell_type": "markdown",
   "metadata": {},
   "source": [
    "- NAND gate"
   ]
  },
  {
   "cell_type": "code",
   "execution_count": 13,
   "metadata": {},
   "outputs": [],
   "source": [
    "def NAND_gate(x):\n",
    "    weight = np.array([-2,-2])\n",
    "    bias = 3\n",
    "    sum = np.dot(weight, x) + bias\n",
    "    return 1 if sum > 0 else 0"
   ]
  },
  {
   "cell_type": "code",
   "execution_count": 14,
   "metadata": {},
   "outputs": [
    {
     "name": "stdout",
     "output_type": "stream",
     "text": [
      "(0, 0) :\t1\n",
      "(0, 1) :\t1\n",
      "(1, 0) :\t1\n",
      "(1, 1) :\t0\n"
     ]
    }
   ],
   "source": [
    "for x in [(0,0),(0,1),(1,0),(1,1)]:\n",
    "    print(f'{x} :\\t{NAND_gate(x)}') "
   ]
  },
  {
   "cell_type": "markdown",
   "metadata": {},
   "source": [
    "- 종합"
   ]
  },
  {
   "cell_type": "code",
   "execution_count": 16,
   "metadata": {},
   "outputs": [
    {
     "name": "stdout",
     "output_type": "stream",
     "text": [
      "X\t\tOR\tAND\tNAND\n",
      "(0, 0) :\t0\t0\t1\n",
      "(0, 1) :\t1\t0\t1\n",
      "(1, 0) :\t1\t0\t1\n",
      "(1, 1) :\t1\t1\t0\n"
     ]
    }
   ],
   "source": [
    "print('X\\t\\tOR\\tAND\\tNAND')\n",
    "for x in [(0,0),(0,1),(1,0),(1,1)]:\n",
    "    print(f'{x} :\\t{OR_gate(x)}\\t{AND_gate(x)}\\t{NAND_gate(x)}') "
   ]
  },
  {
   "cell_type": "markdown",
   "metadata": {},
   "source": [
    "- y = wx + b weight 와 bias를구할때 경사관법을 사용한다.\n"
   ]
  },
  {
   "attachments": {
    "image-2.png": {
     "image/png": "[encoded data removed]"
    },
    "image.png": {
     "image/png": "[encoded data removed]"
    }
   },
   "cell_type": "markdown",
   "metadata": {},
   "source": [
    "![image.png](attachment:image.png)\n",
    "![image-2.png](attachment:image-2.png)\n",
    "RNN을 사용하면\n",
    "![image.png](attachment:image.png)"
   ]
  },
  {
   "cell_type": "markdown",
   "metadata": {},
   "source": [
    "- 2번의 빙하기\n",
    "- XOR -> 2단\n",
    "- 활성화 함수 -> 학습 부진"
   ]
  },
  {
   "cell_type": "code",
   "execution_count": null,
   "metadata": {},
   "outputs": [],
   "source": []
  }
 ],
 "metadata": {
  "kernelspec": {
   "display_name": "base",
   "language": "python",
   "name": "python3"
  },
  "language_info": {
   "codemirror_mode": {
    "name": "ipython",
    "version": 3
   },
   "file_extension": ".py",
   "mimetype": "text/x-python",
   "name": "python",
   "nbconvert_exporter": "python",
   "pygments_lexer": "ipython3",
   "version": "3.11.4"
  }
 },
 "nbformat": 4,
 "nbformat_minor": 2
}
