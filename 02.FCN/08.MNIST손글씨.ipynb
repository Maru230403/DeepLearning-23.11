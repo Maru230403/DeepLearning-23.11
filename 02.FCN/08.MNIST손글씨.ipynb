{
 "cells": [
  {
   "cell_type": "markdown",
   "metadata": {},
   "source": [
    "## MNIST 손글씨 다중분류 - FCN"
   ]
  },
  {
   "cell_type": "code",
   "execution_count": 1,
   "metadata": {},
   "outputs": [],
   "source": [
    "import numpy as np\n",
    "import pandas as pd\n",
    "import matplotlib.pyplot as plt\n",
    "import tensorflow as tf\n",
    "seed =2023\n",
    "np.random.seed(seed)\n",
    "tf.random.set_seed(seed)\n",
    "import warnings\n",
    "warnings.filterwarnings('ignore')"
   ]
  },
  {
   "cell_type": "markdown",
   "metadata": {},
   "source": [
    "- 데이터 전처리"
   ]
  },
  {
   "cell_type": "code",
   "execution_count": 3,
   "metadata": {},
   "outputs": [
    {
     "name": "stdout",
     "output_type": "stream",
     "text": [
      "Downloading data from https://storage.googleapis.com/tensorflow/tf-keras-datasets/mnist.npz\n",
      "11490434/11490434 [==============================] - 1s 0us/step\n"
     ]
    }
   ],
   "source": [
    "from tensorflow.keras.datasets import mnist\n",
    "(X_train, y_train),(X_test, y_test) = mnist.load_data()"
   ]
  },
  {
   "cell_type": "code",
   "execution_count": 4,
   "metadata": {},
   "outputs": [
    {
     "data": {
      "text/plain": [
       "((60000, 28, 28), (10000, 28, 28), (60000,), (10000,))"
      ]
     },
     "execution_count": 4,
     "metadata": {},
     "output_type": "execute_result"
    }
   ],
   "source": [
    "X_train.shape, X_test.shape, y_train.shape, y_test.shape"
   ]
  },
  {
   "cell_type": "code",
   "execution_count": 5,
   "metadata": {},
   "outputs": [
    {
     "data": {
      "image/png": "[encoded data removed]",
      "text/plain": [
       "<Figure size 640x480 with 1 Axes>"
      ]
     },
     "metadata": {},
     "output_type": "display_data"
    }
   ],
   "source": [
    "plt.imshow(X_train[0], cmap='Greys');\n",
    "# y값은 5"
   ]
  },
  {
   "cell_type": "code",
   "execution_count": 6,
   "metadata": {},
   "outputs": [
    {
     "name": "stdout",
     "output_type": "stream",
     "text": [
      "  0   0   0   0   0   0   0   0   0   0   0   0   0   0   0   0   0   0   0   0   0   0   0   0   0   0   0   0 \n",
      "  0   0   0   0   0   0   0   0   0   0   0   0   0   0   0   0   0   0   0   0   0   0   0   0   0   0   0   0 \n",
      "  0   0   0   0   0   0   0   0   0   0   0   0   0   0   0   0   0   0   0   0   0   0   0   0   0   0   0   0 \n",
      "  0   0   0   0   0   0   0   0   0   0   0   0   0   0   0   0   0   0   0   0   0   0   0   0   0   0   0   0 \n",
      "  0   0   0   0   0   0   0   0   0   0   0   0   0   0   0   0   0   0   0   0   0   0   0   0   0   0   0   0 \n",
      "  0   0   0   0   0   0   0   0   0   0   0   0   3  18  18  18 126 136 175  26 166 255 247 127   0   0   0   0 \n",
      "  0   0   0   0   0   0   0   0  30  36  94 154 170 253 253 253 253 253 225 172 253 242 195  64   0   0   0   0 \n",
      "  0   0   0   0   0   0   0  49 238 253 253 253 253 253 253 253 253 251  93  82  82  56  39   0   0   0   0   0 \n",
      "  0   0   0   0   0   0   0  18 219 253 253 253 253 253 198 182 247 241   0   0   0   0   0   0   0   0   0   0 \n",
      "  0   0   0   0   0   0   0   0  80 156 107 253 253 205  11   0  43 154   0   0   0   0   0   0   0   0   0   0 \n",
      "  0   0   0   0   0   0   0   0   0  14   1 154 253  90   0   0   0   0   0   0   0   0   0   0   0   0   0   0 \n",
      "  0   0   0   0   0   0   0   0   0   0   0 139 253 190   2   0   0   0   0   0   0   0   0   0   0   0   0   0 \n",
      "  0   0   0   0   0   0   0   0   0   0   0  11 190 253  70   0   0   0   0   0   0   0   0   0   0   0   0   0 \n",
      "  0   0   0   0   0   0   0   0   0   0   0   0  35 241 225 160 108   1   0   0   0   0   0   0   0   0   0   0 \n",
      "  0   0   0   0   0   0   0   0   0   0   0   0   0  81 240 253 253 119  25   0   0   0   0   0   0   0   0   0 \n",
      "  0   0   0   0   0   0   0   0   0   0   0   0   0   0  45 186 253 253 150  27   0   0   0   0   0   0   0   0 \n",
      "  0   0   0   0   0   0   0   0   0   0   0   0   0   0   0  16  93 252 253 187   0   0   0   0   0   0   0   0 \n",
      "  0   0   0   0   0   0   0   0   0   0   0   0   0   0   0   0   0 249 253 249  64   0   0   0   0   0   0   0 \n",
      "  0   0   0   0   0   0   0   0   0   0   0   0   0   0  46 130 183 253 253 207   2   0   0   0   0   0   0   0 \n",
      "  0   0   0   0   0   0   0   0   0   0   0   0  39 148 229 253 253 253 250 182   0   0   0   0   0   0   0   0 \n",
      "  0   0   0   0   0   0   0   0   0   0  24 114 221 253 253 253 253 201  78   0   0   0   0   0   0   0   0   0 \n",
      "  0   0   0   0   0   0   0   0  23  66 213 253 253 253 253 198  81   2   0   0   0   0   0   0   0   0   0   0 \n",
      "  0   0   0   0   0   0  18 171 219 253 253 253 253 195  80   9   0   0   0   0   0   0   0   0   0   0   0   0 \n",
      "  0   0   0   0  55 172 226 253 253 253 253 244 133  11   0   0   0   0   0   0   0   0   0   0   0   0   0   0 \n",
      "  0   0   0   0 136 253 253 253 212 135 132  16   0   0   0   0   0   0   0   0   0   0   0   0   0   0   0   0 \n",
      "  0   0   0   0   0   0   0   0   0   0   0   0   0   0   0   0   0   0   0   0   0   0   0   0   0   0   0   0 \n",
      "  0   0   0   0   0   0   0   0   0   0   0   0   0   0   0   0   0   0   0   0   0   0   0   0   0   0   0   0 \n",
      "  0   0   0   0   0   0   0   0   0   0   0   0   0   0   0   0   0   0   0   0   0   0   0   0   0   0   0   0 \n"
     ]
    }
   ],
   "source": [
    "import sys\n",
    "for row in X_train[0]:\n",
    "    for x in row:\n",
    "        sys.stdout.write(f'{x:3d} ')\n",
    "    sys.stdout.write('\\n')"
   ]
  },
  {
   "cell_type": "code",
   "execution_count": 7,
   "metadata": {},
   "outputs": [],
   "source": [
    "# X scaling\n",
    "# 이미지 데이터는 0 ~ 1 사이의 값으로 스케일링\n",
    "X_train = X_train / 255.\n",
    "X_test = X_test / 255.\n"
   ]
  },
  {
   "cell_type": "code",
   "execution_count": 8,
   "metadata": {},
   "outputs": [
    {
     "data": {
      "text/plain": [
       "((60000, 784), (10000, 784))"
      ]
     },
     "execution_count": 8,
     "metadata": {},
     "output_type": "execute_result"
    }
   ],
   "source": [
    "# Fully Connected Network(Dense layer)은 1차원 데이터만 처리 가능하므로 차원 축소\n",
    "X_train = X_train.reshape(-1, 784)\n",
    "X_test = X_test.reshape(-1, 784)\n",
    "X_train.shape, X_test.shape"
   ]
  },
  {
   "cell_type": "code",
   "execution_count": 9,
   "metadata": {},
   "outputs": [
    {
     "data": {
      "text/plain": [
       "(array([0, 1, 2, 3, 4, 5, 6, 7, 8, 9], dtype=uint8),\n",
       " array([5923, 6742, 5958, 6131, 5842, 5421, 5918, 6265, 5851, 5949],\n",
       "       dtype=int64))"
      ]
     },
     "execution_count": 9,
     "metadata": {},
     "output_type": "execute_result"
    }
   ],
   "source": [
    "# y 값의 분포\n",
    "np.unique(y_train, return_counts=True)"
   ]
  },
  {
   "cell_type": "code",
   "execution_count": 10,
   "metadata": {},
   "outputs": [
    {
     "data": {
      "text/plain": [
       "((60000, 10), (10000, 10))"
      ]
     },
     "execution_count": 10,
     "metadata": {},
     "output_type": "execute_result"
    }
   ],
   "source": [
    "# One hot encoding\n",
    "from tensorflow.keras.utils import to_categorical\n",
    "y_train = to_categorical(y_train)\n",
    "y_test = to_categorical(y_test)\n",
    "y_train.shape, y_test.shape"
   ]
  },
  {
   "cell_type": "markdown",
   "metadata": {},
   "source": [
    "- 모델 정의/설정/학습/평가"
   ]
  },
  {
   "cell_type": "code",
   "execution_count": 11,
   "metadata": {},
   "outputs": [],
   "source": [
    "from tensorflow.keras.models import Sequential, load_model\n",
    "from tensorflow.keras.layers import Dense, Dropout\n",
    "from tensorflow.keras.callbacks import ModelCheckpoint, EarlyStopping"
   ]
  },
  {
   "cell_type": "code",
   "execution_count": 12,
   "metadata": {},
   "outputs": [
    {
     "name": "stdout",
     "output_type": "stream",
     "text": [
      "Model: \"sequential\"\n",
      "_________________________________________________________________\n",
      " Layer (type)                Output Shape              Param #   \n",
      "=================================================================\n",
      " dense (Dense)               (None, 1000)              785000    \n",
      "                                                                 \n",
      " dropout (Dropout)           (None, 1000)              0         \n",
      "                                                                 \n",
      " dense_1 (Dense)             (None, 256)               256256    \n",
      "                                                                 \n",
      " dropout_1 (Dropout)         (None, 256)               0         \n",
      "                                                                 \n",
      " dense_2 (Dense)             (None, 48)                12336     \n",
      "                                                                 \n",
      " dense_3 (Dense)             (None, 10)                490       \n",
      "                                                                 \n",
      "=================================================================\n",
      "Total params: 1054082 (4.02 MB)\n",
      "Trainable params: 1054082 (4.02 MB)\n",
      "Non-trainable params: 0 (0.00 Byte)\n",
      "_________________________________________________________________\n"
     ]
    }
   ],
   "source": [
    "model = Sequential([\n",
    "    Dense(1000, input_dim=784, activation='relu'),\n",
    "    Dropout(0.25),\n",
    "    Dense(256, activation='relu'),\n",
    "    Dropout(0.25),\n",
    "    Dense(48, activation='relu'),\n",
    "    Dense(10, activation='softmax')\n",
    "])\n",
    "model.summary()"
   ]
  },
  {
   "cell_type": "code",
   "execution_count": 14,
   "metadata": {},
   "outputs": [],
   "source": [
    "model.compile('adam', 'categorical_crossentropy', metrics=['accuracy'])"
   ]
  },
  {
   "cell_type": "code",
   "execution_count": 15,
   "metadata": {},
   "outputs": [
    {
     "name": "stdout",
     "output_type": "stream",
     "text": [
      "Epoch 1/100\n",
      "187/188 [============================>.] - ETA: 0s - loss: 0.3604 - accuracy: 0.8908\n",
      "Epoch 1: val_loss improved from inf to 0.13464, saving model to models\\best_mnist.h5\n",
      "188/188 [==============================] - 6s 30ms/step - loss: 0.3600 - accuracy: 0.8909 - val_loss: 0.1346 - val_accuracy: 0.9599\n",
      "Epoch 2/100\n",
      "187/188 [============================>.] - ETA: 0s - loss: 0.1296 - accuracy: 0.9600\n",
      "Epoch 2: val_loss improved from 0.13464 to 0.10157, saving model to models\\best_mnist.h5\n",
      "188/188 [==============================] - 5s 27ms/step - loss: 0.1295 - accuracy: 0.9600 - val_loss: 0.1016 - val_accuracy: 0.9697\n",
      "Epoch 3/100\n",
      "187/188 [============================>.] - ETA: 0s - loss: 0.0887 - accuracy: 0.9722\n",
      "Epoch 3: val_loss improved from 0.10157 to 0.08698, saving model to models\\best_mnist.h5\n",
      "188/188 [==============================] - 5s 27ms/step - loss: 0.0886 - accuracy: 0.9722 - val_loss: 0.0870 - val_accuracy: 0.9739\n",
      "Epoch 4/100\n",
      "186/188 [============================>.] - ETA: 0s - loss: 0.0665 - accuracy: 0.9789\n",
      "Epoch 4: val_loss improved from 0.08698 to 0.07923, saving model to models\\best_mnist.h5\n",
      "188/188 [==============================] - 5s 26ms/step - loss: 0.0664 - accuracy: 0.9790 - val_loss: 0.0792 - val_accuracy: 0.9752\n",
      "Epoch 5/100\n",
      "188/188 [==============================] - ETA: 0s - loss: 0.0539 - accuracy: 0.9828\n",
      "Epoch 5: val_loss did not improve from 0.07923\n",
      "188/188 [==============================] - 4s 23ms/step - loss: 0.0539 - accuracy: 0.9828 - val_loss: 0.0817 - val_accuracy: 0.9759\n",
      "Epoch 6/100\n",
      "186/188 [============================>.] - ETA: 0s - loss: 0.0443 - accuracy: 0.9859\n",
      "Epoch 6: val_loss improved from 0.07923 to 0.07386, saving model to models\\best_mnist.h5\n",
      "188/188 [==============================] - 4s 24ms/step - loss: 0.0442 - accuracy: 0.9859 - val_loss: 0.0739 - val_accuracy: 0.9786\n",
      "Epoch 7/100\n",
      "187/188 [============================>.] - ETA: 0s - loss: 0.0364 - accuracy: 0.9887\n",
      "Epoch 7: val_loss did not improve from 0.07386\n",
      "188/188 [==============================] - 5s 24ms/step - loss: 0.0363 - accuracy: 0.9887 - val_loss: 0.0776 - val_accuracy: 0.9797\n",
      "Epoch 8/100\n",
      "188/188 [==============================] - ETA: 0s - loss: 0.0333 - accuracy: 0.9897\n",
      "Epoch 8: val_loss did not improve from 0.07386\n",
      "188/188 [==============================] - 5s 24ms/step - loss: 0.0333 - accuracy: 0.9897 - val_loss: 0.0850 - val_accuracy: 0.9776\n",
      "Epoch 9/100\n",
      "186/188 [============================>.] - ETA: 0s - loss: 0.0291 - accuracy: 0.9904\n",
      "Epoch 9: val_loss did not improve from 0.07386\n",
      "188/188 [==============================] - 5s 24ms/step - loss: 0.0292 - accuracy: 0.9904 - val_loss: 0.0759 - val_accuracy: 0.9801\n",
      "Epoch 10/100\n",
      "186/188 [============================>.] - ETA: 0s - loss: 0.0258 - accuracy: 0.9918\n",
      "Epoch 10: val_loss improved from 0.07386 to 0.07155, saving model to models\\best_mnist.h5\n",
      "188/188 [==============================] - 5s 27ms/step - loss: 0.0257 - accuracy: 0.9918 - val_loss: 0.0716 - val_accuracy: 0.9798\n",
      "Epoch 11/100\n",
      "186/188 [============================>.] - ETA: 0s - loss: 0.0242 - accuracy: 0.9920\n",
      "Epoch 11: val_loss did not improve from 0.07155\n",
      "188/188 [==============================] - 5s 24ms/step - loss: 0.0242 - accuracy: 0.9920 - val_loss: 0.0769 - val_accuracy: 0.9802\n",
      "Epoch 12/100\n",
      "188/188 [==============================] - ETA: 0s - loss: 0.0229 - accuracy: 0.9923\n",
      "Epoch 12: val_loss did not improve from 0.07155\n",
      "188/188 [==============================] - 4s 24ms/step - loss: 0.0229 - accuracy: 0.9923 - val_loss: 0.0864 - val_accuracy: 0.9797\n",
      "Epoch 13/100\n",
      "186/188 [============================>.] - ETA: 0s - loss: 0.0209 - accuracy: 0.9933\n",
      "Epoch 13: val_loss did not improve from 0.07155\n",
      "188/188 [==============================] - 5s 24ms/step - loss: 0.0208 - accuracy: 0.9934 - val_loss: 0.0788 - val_accuracy: 0.9816\n",
      "Epoch 14/100\n",
      "187/188 [============================>.] - ETA: 0s - loss: 0.0181 - accuracy: 0.9941\n",
      "Epoch 14: val_loss did not improve from 0.07155\n",
      "188/188 [==============================] - 4s 24ms/step - loss: 0.0182 - accuracy: 0.9940 - val_loss: 0.0788 - val_accuracy: 0.9796\n",
      "Epoch 15/100\n",
      "187/188 [============================>.] - ETA: 0s - loss: 0.0190 - accuracy: 0.9938\n",
      "Epoch 15: val_loss did not improve from 0.07155\n",
      "188/188 [==============================] - 5s 24ms/step - loss: 0.0190 - accuracy: 0.9938 - val_loss: 0.0846 - val_accuracy: 0.9805\n"
     ]
    }
   ],
   "source": [
    "mc = ModelCheckpoint('models/best_mnist.h5', verbose=1, save_best_only=True)\n",
    "es = EarlyStopping(patience=5)\n",
    "hist = model.fit(X_train, y_train, validation_split=0.2,\n",
    "                 epochs=100, batch_size=256, verbose=1,\n",
    "                 callbacks=[mc,es])"
   ]
  },
  {
   "cell_type": "code",
   "execution_count": 16,
   "metadata": {},
   "outputs": [
    {
     "name": "stdout",
     "output_type": "stream",
     "text": [
      "313/313 [==============================] - 1s 4ms/step - loss: 0.0672 - accuracy: 0.9818\n"
     ]
    },
    {
     "data": {
      "text/plain": [
       "[0.06717586517333984, 0.9818000197410583]"
      ]
     },
     "execution_count": 16,
     "metadata": {},
     "output_type": "execute_result"
    }
   ],
   "source": [
    "best_model = load_model('models/best_mnist.h5')\n",
    "best_model.evaluate(X_test, y_test)"
   ]
  },
  {
   "cell_type": "markdown",
   "metadata": {},
   "source": [
    "- 시각화"
   ]
  },
  {
   "cell_type": "code",
   "execution_count": 17,
   "metadata": {},
   "outputs": [
    {
     "data": {
      "image/png": "[encoded data removed]",
      "text/plain": [
       "<Figure size 1200x600 with 1 Axes>"
      ]
     },
     "metadata": {},
     "output_type": "display_data"
    }
   ],
   "source": [
    "y_acc = hist.history['accuracy']\n",
    "y_vloss = hist.history['val_loss']\n",
    "xs = np.arange(1, len(y_acc)+1)\n",
    "\n",
    "plt.figure(figsize=(12,6))\n",
    "plt.plot(xs, y_acc, label='train accuracy')\n",
    "plt.plot(xs, y_vloss, label='validation loss')\n",
    "plt.legend(), plt.grid(), plt.xlabel('epoch')\n",
    "plt.show()"
   ]
  },
  {
   "cell_type": "code",
   "execution_count": 21,
   "metadata": {},
   "outputs": [
    {
     "name": "stdout",
     "output_type": "stream",
     "text": [
      "Model: \"sequential_2\"\n",
      "_________________________________________________________________\n",
      " Layer (type)                Output Shape              Param #   \n",
      "=================================================================\n",
      " dense_8 (Dense)             (None, 1000)              785000    \n",
      "                                                                 \n",
      " dense_9 (Dense)             (None, 256)               256256    \n",
      "                                                                 \n",
      " dense_10 (Dense)            (None, 48)                12336     \n",
      "                                                                 \n",
      " dense_11 (Dense)            (None, 10)                490       \n",
      "                                                                 \n",
      "=================================================================\n",
      "Total params: 1054082 (4.02 MB)\n",
      "Trainable params: 1054082 (4.02 MB)\n",
      "Non-trainable params: 0 (0.00 Byte)\n",
      "_________________________________________________________________\n"
     ]
    }
   ],
   "source": [
    "model2 = Sequential([\n",
    "    Dense(1000, input_dim=784, activation='relu'),\n",
    "    Dense(256, activation='relu'),\n",
    "    Dense(48, activation='relu'),\n",
    "    Dense(10, activation='softmax')\n",
    "])\n",
    "model2.summary()"
   ]
  },
  {
   "cell_type": "code",
   "execution_count": 22,
   "metadata": {},
   "outputs": [],
   "source": [
    "model2.compile('adam', 'categorical_crossentropy', metrics=['accuracy'])"
   ]
  },
  {
   "cell_type": "code",
   "execution_count": 23,
   "metadata": {},
   "outputs": [
    {
     "name": "stdout",
     "output_type": "stream",
     "text": [
      "Epoch 1/100\n",
      "186/188 [============================>.] - ETA: 0s - loss: 0.2914 - accuracy: 0.9159\n",
      "Epoch 1: val_loss did not improve from 0.07155\n",
      "188/188 [==============================] - 5s 22ms/step - loss: 0.2903 - accuracy: 0.9162 - val_loss: 0.1341 - val_accuracy: 0.9613\n",
      "Epoch 2/100\n",
      "188/188 [==============================] - ETA: 0s - loss: 0.0983 - accuracy: 0.9709\n",
      "Epoch 2: val_loss did not improve from 0.07155\n",
      "188/188 [==============================] - 4s 22ms/step - loss: 0.0983 - accuracy: 0.9709 - val_loss: 0.0927 - val_accuracy: 0.9709\n",
      "Epoch 3/100\n",
      "188/188 [==============================] - ETA: 0s - loss: 0.0585 - accuracy: 0.9822\n",
      "Epoch 3: val_loss did not improve from 0.07155\n",
      "188/188 [==============================] - 4s 21ms/step - loss: 0.0585 - accuracy: 0.9822 - val_loss: 0.0821 - val_accuracy: 0.9752\n",
      "Epoch 4/100\n",
      "188/188 [==============================] - ETA: 0s - loss: 0.0382 - accuracy: 0.9880\n",
      "Epoch 4: val_loss did not improve from 0.07155\n",
      "188/188 [==============================] - 4s 22ms/step - loss: 0.0382 - accuracy: 0.9880 - val_loss: 0.0840 - val_accuracy: 0.9746\n",
      "Epoch 5/100\n",
      "186/188 [============================>.] - ETA: 0s - loss: 0.0271 - accuracy: 0.9917\n",
      "Epoch 5: val_loss did not improve from 0.07155\n",
      "188/188 [==============================] - 4s 23ms/step - loss: 0.0269 - accuracy: 0.9918 - val_loss: 0.0808 - val_accuracy: 0.9779\n",
      "Epoch 6/100\n",
      "187/188 [============================>.] - ETA: 0s - loss: 0.0236 - accuracy: 0.9925\n",
      "Epoch 6: val_loss did not improve from 0.07155\n",
      "188/188 [==============================] - 4s 23ms/step - loss: 0.0236 - accuracy: 0.9925 - val_loss: 0.0850 - val_accuracy: 0.9763\n",
      "Epoch 7/100\n",
      "188/188 [==============================] - ETA: 0s - loss: 0.0193 - accuracy: 0.9936\n",
      "Epoch 7: val_loss did not improve from 0.07155\n",
      "188/188 [==============================] - 4s 24ms/step - loss: 0.0193 - accuracy: 0.9936 - val_loss: 0.0939 - val_accuracy: 0.9766\n",
      "Epoch 8/100\n",
      "186/188 [============================>.] - ETA: 0s - loss: 0.0119 - accuracy: 0.9964\n",
      "Epoch 8: val_loss did not improve from 0.07155\n",
      "188/188 [==============================] - 4s 20ms/step - loss: 0.0118 - accuracy: 0.9964 - val_loss: 0.1077 - val_accuracy: 0.9739\n",
      "Epoch 9/100\n",
      "185/188 [============================>.] - ETA: 0s - loss: 0.0126 - accuracy: 0.9956\n",
      "Epoch 9: val_loss did not improve from 0.07155\n",
      "188/188 [==============================] - 4s 21ms/step - loss: 0.0126 - accuracy: 0.9956 - val_loss: 0.0871 - val_accuracy: 0.9786\n",
      "Epoch 10/100\n",
      "187/188 [============================>.] - ETA: 0s - loss: 0.0123 - accuracy: 0.9956\n",
      "Epoch 10: val_loss did not improve from 0.07155\n",
      "188/188 [==============================] - 4s 21ms/step - loss: 0.0124 - accuracy: 0.9956 - val_loss: 0.0937 - val_accuracy: 0.9779\n"
     ]
    }
   ],
   "source": [
    "mc2 = ModelCheckpoint('models/best_mnist.h5', verbose=1, save_best_only=True)\n",
    "es2 = EarlyStopping(patience=5)\n",
    "hist2 = model2.fit(X_train, y_train, validation_split=0.2,\n",
    "                 epochs=100, batch_size=256, verbose=1,\n",
    "                 callbacks=[mc,es])"
   ]
  },
  {
   "cell_type": "code",
   "execution_count": 24,
   "metadata": {},
   "outputs": [
    {
     "name": "stdout",
     "output_type": "stream",
     "text": [
      "313/313 [==============================] - 1s 3ms/step - loss: 0.0672 - accuracy: 0.9818\n"
     ]
    },
    {
     "data": {
      "text/plain": [
       "[0.06717586517333984, 0.9818000197410583]"
      ]
     },
     "execution_count": 24,
     "metadata": {},
     "output_type": "execute_result"
    }
   ],
   "source": [
    "best_model2 = load_model('models/best_mnist.h5')\n",
    "best_model2.evaluate(X_test, y_test)"
   ]
  },
  {
   "cell_type": "code",
   "execution_count": 25,
   "metadata": {},
   "outputs": [
    {
     "data": {
      "image/png": "[encoded data removed]",
      "text/plain": [
       "<Figure size 1200x600 with 1 Axes>"
      ]
     },
     "metadata": {},
     "output_type": "display_data"
    }
   ],
   "source": [
    "y_acc2 = hist2.history['accuracy']\n",
    "y_vloss2 = hist2.history['val_loss']\n",
    "xs2 = np.arange(1, len(y_acc2)+1)\n",
    "\n",
    "plt.figure(figsize=(12,6))\n",
    "plt.plot(xs2, y_acc2, label='train accuracy')\n",
    "plt.plot(xs2, y_vloss2, label='validation loss')\n",
    "plt.legend(), plt.grid(), plt.xlabel('epoch')\n",
    "plt.show()"
   ]
  },
  {
   "cell_type": "code",
   "execution_count": null,
   "metadata": {},
   "outputs": [],
   "source": []
  }
 ],
 "metadata": {
  "kernelspec": {
   "display_name": "base",
   "language": "python",
   "name": "python3"
  },
  "language_info": {
   "codemirror_mode": {
    "name": "ipython",
    "version": 3
   },
   "file_extension": ".py",
   "mimetype": "text/x-python",
   "name": "python",
   "nbconvert_exporter": "python",
   "pygments_lexer": "ipython3",
   "version": "3.11.4"
  }
 },
 "nbformat": 4,
 "nbformat_minor": 2
}
