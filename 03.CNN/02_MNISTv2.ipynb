{
  "cells": [
    {
      "cell_type": "markdown",
      "metadata": {
        "id": "PrROauOYfCwt"
      },
      "source": [
        "## MNIST 손글씨 - CNN v2\n",
        "- 2 x Conv2D layers\n",
        "- 1 MaxPooling2D layer\n",
        "- 1 FCN layer\n",
        "- 1 Output layer"
      ]
    },
    {
      "cell_type": "code",
      "execution_count": 5,
      "metadata": {
        "id": "CETJ8PQNfCjE"
      },
      "outputs": [],
      "source": [
        "import numpy as np\n",
        "import matplotlib.pyplot as plt\n",
        "import tensorflow as tf\n",
        "seed = 2023\n",
        "np.random.seed(seed)\n",
        "tf.random.set_seed(seed)"
      ]
    },
    {
      "cell_type": "code",
      "execution_count": 6,
      "metadata": {
        "colab": {
          "base_uri": "https://localhost:8080/",
          "height": 35
        },
        "id": "CfgQ5rvEfi7U",
        "outputId": "09e59522-f9be-4ca3-e49b-c454a8f22516"
      },
      "outputs": [
        {
          "data": {
            "application/vnd.google.colaboratory.intrinsic+json": {
              "type": "string"
            },
            "text/plain": [
              "'2.14.0'"
            ]
          },
          "execution_count": 6,
          "metadata": {},
          "output_type": "execute_result"
        }
      ],
      "source": [
        "tf.__version__"
      ]
    },
    {
      "cell_type": "markdown",
      "metadata": {
        "id": "jjD-pNGLfgRW"
      },
      "source": [
        "- 데이터 전처리"
      ]
    },
    {
      "cell_type": "code",
      "execution_count": 7,
      "metadata": {
        "colab": {
          "base_uri": "https://localhost:8080/"
        },
        "id": "1Yy8Kzkte9tE",
        "outputId": "f76b0f63-0a23-48dc-9da2-07a50e63a95b"
      },
      "outputs": [
        {
          "name": "stdout",
          "output_type": "stream",
          "text": [
            "Downloading data from https://storage.googleapis.com/tensorflow/tf-keras-datasets/mnist.npz\n",
            "11490434/11490434 [==============================] - 1s 0us/step\n"
          ]
        },
        {
          "data": {
            "text/plain": [
              "((60000, 28, 28), (60000,), (10000, 28, 28), (10000,))"
            ]
          },
          "execution_count": 7,
          "metadata": {},
          "output_type": "execute_result"
        }
      ],
      "source": [
        "from tensorflow.keras.datasets import mnist\n",
        "(X_train, y_train), (X_test, y_test) = mnist.load_data()\n",
        "X_train.shape, y_train.shape, X_test.shape, y_test.shape"
      ]
    },
    {
      "cell_type": "code",
      "execution_count": 8,
      "metadata": {
        "id": "eZHlbElef9_5"
      },
      "outputs": [],
      "source": [
        "# X data의 차원 변경 및 정규화(0 ~1)\n",
        "X_train = X_train.reshape(-1, 28, 28, 1) / 255.\n",
        "X_test = X_test.reshape(-1, 28, 28, 1) / 255."
      ]
    },
    {
      "cell_type": "code",
      "execution_count": 9,
      "metadata": {
        "colab": {
          "base_uri": "https://localhost:8080/"
        },
        "id": "l8AdSxyZgcv9",
        "outputId": "eddf3ceb-d89f-4167-e38c-7a03f23a2296"
      },
      "outputs": [
        {
          "data": {
            "text/plain": [
              "((60000, 10), (10000, 10))"
            ]
          },
          "execution_count": 9,
          "metadata": {},
          "output_type": "execute_result"
        }
      ],
      "source": [
        "# y_data의 one-hot-encoding\n",
        "from tensorflow.keras.utils import to_categorical\n",
        "Y_train = to_categorical(y_train)\n",
        "Y_test = to_categorical(y_test)\n",
        "Y_train.shape, Y_test.shape"
      ]
    },
    {
      "cell_type": "markdown",
      "metadata": {
        "id": "3zAw1sJog-He"
      },
      "source": [
        "- 모델 정의/설정/학습/평가"
      ]
    },
    {
      "cell_type": "code",
      "execution_count": 10,
      "metadata": {
        "id": "Hdae3WDKg9YZ"
      },
      "outputs": [],
      "source": [
        "from tensorflow.keras.models import Sequential, load_model\n",
        "from tensorflow.keras.layers import Conv2D, Dense, Flatten, MaxPooling2D\n",
        "from tensorflow.keras.callbacks import ModelCheckpoint, EarlyStopping"
      ]
    },
    {
      "cell_type": "code",
      "execution_count": 11,
      "metadata": {
        "colab": {
          "base_uri": "https://localhost:8080/"
        },
        "id": "RrrWwUEChcxp",
        "outputId": "1a80040a-251a-4963-c609-dce917ad889e"
      },
      "outputs": [
        {
          "name": "stdout",
          "output_type": "stream",
          "text": [
            "Model: \"sequential_1\"\n",
            "_________________________________________________________________\n",
            " Layer (type)                Output Shape              Param #   \n",
            "=================================================================\n",
            " conv2d_2 (Conv2D)           (None, 26, 26, 32)        320       \n",
            "                                                                 \n",
            " conv2d_3 (Conv2D)           (None, 24, 24, 64)        18496     \n",
            "                                                                 \n",
            " max_pooling2d_1 (MaxPoolin  (None, 12, 12, 64)        0         \n",
            " g2D)                                                            \n",
            "                                                                 \n",
            " flatten_1 (Flatten)         (None, 9216)              0         \n",
            "                                                                 \n",
            " dense_2 (Dense)             (None, 512)               4719104   \n",
            "                                                                 \n",
            " dense_3 (Dense)             (None, 10)                5130      \n",
            "                                                                 \n",
            "=================================================================\n",
            "Total params: 4743050 (18.09 MB)\n",
            "Trainable params: 4743050 (18.09 MB)\n",
            "Non-trainable params: 0 (0.00 Byte)\n",
            "_________________________________________________________________\n"
          ]
        }
      ],
      "source": [
        "model = Sequential([\n",
        "    Conv2D(32, kernel_size=(3,3), input_shape=(28,28,1), activation='relu'),\n",
        "    Conv2D(64, (3,3), activation='relu'),\n",
        "    MaxPooling2D(),           # MaxPooling2D(pool_size)\n",
        "    Flatten(),\n",
        "    Dense(512, activation='relu'),\n",
        "    Dense(10, activation='softmax')\n",
        "])\n",
        "model.summary()"
      ]
    },
    {
      "cell_type": "code",
      "execution_count": 12,
      "metadata": {
        "id": "G1l7FAxQiOOJ"
      },
      "outputs": [],
      "source": [
        "model.compile('adam', 'categorical_crossentropy', metrics=['accuracy'])"
      ]
    },
    {
      "cell_type": "code",
      "execution_count": 13,
      "metadata": {
        "colab": {
          "base_uri": "https://localhost:8080/"
        },
        "id": "bL0Gl8A_kNce",
        "outputId": "6a96b87b-3e38-45e4-f1ce-f28acb021f86"
      },
      "outputs": [
        {
          "name": "stdout",
          "output_type": "stream",
          "text": [
            "total 8\n",
            "drwxr-xr-x 2 root root 4096 Nov  8 02:05 models\n",
            "drwxr-xr-x 1 root root 4096 Nov  6 14:20 sample_data\n"
          ]
        }
      ],
      "source": [
        "!mkdir models\n",
        "!ls -l"
      ]
    },
    {
      "cell_type": "code",
      "execution_count": 14,
      "metadata": {
        "id": "fRhDpMyXj9i_"
      },
      "outputs": [],
      "source": [
        "model_path = 'models/best-mnist-v2.h5'\n",
        "mc = ModelCheckpoint(model_path, save_best_only=True, verbose=1)   # save_best_only= 항상 기본값이 False이다\n",
        "es = EarlyStopping(patience=5)"
      ]
    },
    {
      "cell_type": "code",
      "execution_count": 15,
      "metadata": {
        "colab": {
          "base_uri": "https://localhost:8080/"
        },
        "id": "HxWmR6bDlDi9",
        "outputId": "90016dd9-fc68-4d50-b39c-308f3408c32b"
      },
      "outputs": [
        {
          "name": "stdout",
          "output_type": "stream",
          "text": [
            "Epoch 1/100\n",
            "188/188 [==============================] - ETA: 0s - loss: 0.2034 - accuracy: 0.9381\n",
            "Epoch 1: val_loss improved from inf to 0.05848, saving model to models/best-mnist-v2.h5\n",
            "188/188 [==============================] - 16s 20ms/step - loss: 0.2034 - accuracy: 0.9381 - val_loss: 0.0585 - val_accuracy: 0.9828\n",
            "Epoch 2/100\n",
            "  1/188 [..............................] - ETA: 3s - loss: 0.0458 - accuracy: 0.9805"
          ]
        },
        {
          "name": "stderr",
          "output_type": "stream",
          "text": [
            "/usr/local/lib/python3.10/dist-packages/keras/src/engine/training.py:3079: UserWarning: You are saving your model as an HDF5 file via `model.save()`. This file format is considered legacy. We recommend using instead the native Keras format, e.g. `model.save('my_model.keras')`.\n",
            "  saving_api.save_model(\n"
          ]
        },
        {
          "name": "stdout",
          "output_type": "stream",
          "text": [
            "186/188 [============================>.] - ETA: 0s - loss: 0.0506 - accuracy: 0.9845\n",
            "Epoch 2: val_loss improved from 0.05848 to 0.05081, saving model to models/best-mnist-v2.h5\n",
            "188/188 [==============================] - 3s 15ms/step - loss: 0.0506 - accuracy: 0.9845 - val_loss: 0.0508 - val_accuracy: 0.9845\n",
            "Epoch 3/100\n",
            "186/188 [============================>.] - ETA: 0s - loss: 0.0293 - accuracy: 0.9908\n",
            "Epoch 3: val_loss improved from 0.05081 to 0.04570, saving model to models/best-mnist-v2.h5\n",
            "188/188 [==============================] - 3s 15ms/step - loss: 0.0292 - accuracy: 0.9908 - val_loss: 0.0457 - val_accuracy: 0.9861\n",
            "Epoch 4/100\n",
            "184/188 [============================>.] - ETA: 0s - loss: 0.0193 - accuracy: 0.9937\n",
            "Epoch 4: val_loss improved from 0.04570 to 0.04178, saving model to models/best-mnist-v2.h5\n",
            "188/188 [==============================] - 3s 15ms/step - loss: 0.0191 - accuracy: 0.9937 - val_loss: 0.0418 - val_accuracy: 0.9882\n",
            "Epoch 5/100\n",
            "186/188 [============================>.] - ETA: 0s - loss: 0.0106 - accuracy: 0.9967\n",
            "Epoch 5: val_loss did not improve from 0.04178\n",
            "188/188 [==============================] - 3s 16ms/step - loss: 0.0107 - accuracy: 0.9967 - val_loss: 0.0482 - val_accuracy: 0.9876\n",
            "Epoch 6/100\n",
            "184/188 [============================>.] - ETA: 0s - loss: 0.0088 - accuracy: 0.9970\n",
            "Epoch 6: val_loss did not improve from 0.04178\n",
            "188/188 [==============================] - 3s 15ms/step - loss: 0.0088 - accuracy: 0.9970 - val_loss: 0.0477 - val_accuracy: 0.9872\n",
            "Epoch 7/100\n",
            "184/188 [============================>.] - ETA: 0s - loss: 0.0058 - accuracy: 0.9981\n",
            "Epoch 7: val_loss did not improve from 0.04178\n",
            "188/188 [==============================] - 3s 14ms/step - loss: 0.0058 - accuracy: 0.9981 - val_loss: 0.0506 - val_accuracy: 0.9884\n",
            "Epoch 8/100\n",
            "186/188 [============================>.] - ETA: 0s - loss: 0.0053 - accuracy: 0.9983\n",
            "Epoch 8: val_loss did not improve from 0.04178\n",
            "188/188 [==============================] - 3s 14ms/step - loss: 0.0054 - accuracy: 0.9983 - val_loss: 0.0453 - val_accuracy: 0.9892\n",
            "Epoch 9/100\n",
            "185/188 [============================>.] - ETA: 0s - loss: 0.0042 - accuracy: 0.9985\n",
            "Epoch 9: val_loss did not improve from 0.04178\n",
            "188/188 [==============================] - 3s 15ms/step - loss: 0.0043 - accuracy: 0.9985 - val_loss: 0.0500 - val_accuracy: 0.9893\n"
          ]
        }
      ],
      "source": [
        "hist = model.fit(\n",
        "    X_train, Y_train, validation_split=0.2, epochs=100, batch_size=256,\n",
        "    callbacks=[mc, es]\n",
        ")"
      ]
    },
    {
      "cell_type": "code",
      "execution_count": 16,
      "metadata": {
        "colab": {
          "base_uri": "https://localhost:8080/"
        },
        "id": "bOA8O34flaCi",
        "outputId": "2f809c6d-189c-45d3-ee10-8226934b52ba"
      },
      "outputs": [
        {
          "name": "stdout",
          "output_type": "stream",
          "text": [
            "313/313 [==============================] - 1s 3ms/step - loss: 0.0357 - accuracy: 0.9880\n"
          ]
        },
        {
          "data": {
            "text/plain": [
              "[0.035745374858379364, 0.9879999756813049]"
            ]
          },
          "execution_count": 16,
          "metadata": {},
          "output_type": "execute_result"
        }
      ],
      "source": [
        "best_model = load_model(model_path)\n",
        "best_model.evaluate(X_test, Y_test)"
      ]
    },
    {
      "cell_type": "code",
      "execution_count": 17,
      "metadata": {
        "id": "Nz53Sljhmd8P"
      },
      "outputs": [],
      "source": [
        "y_acc = hist.history['accuracy']\n",
        "y_vloss = hist.history['val_loss']\n",
        "xs = np.arange(1, len(y_acc)+1)"
      ]
    },
    {
      "cell_type": "code",
      "execution_count": 18,
      "metadata": {
        "colab": {
          "base_uri": "https://localhost:8080/",
          "height": 495
        },
        "id": "8Y7uNXP9mzDZ",
        "outputId": "9cd6ff16-1541-4c6f-da88-c923f1ac9be6"
      },
      "outputs": [
        {
          "data": {
            "image/png": "[encoded data removed]",
            "text/plain": [
              "<Figure size 1200x600 with 1 Axes>"
            ]
          },
          "metadata": {},
          "output_type": "display_data"
        }
      ],
      "source": [
        "plt.figure(figsize=(12,6))\n",
        "plt.plot(xs, y_acc, label='train accuracy')\n",
        "plt.plot(xs, y_vloss, label='validation loss')\n",
        "plt.legend(), plt.grid(), plt.xlabel('epoch')\n",
        "plt.title('MNIST CNN Model v2')\n",
        "plt.show()"
      ]
    },
    {
      "cell_type": "code",
      "execution_count": 18,
      "metadata": {
        "id": "Uv96YoSym1U-"
      },
      "outputs": [],
      "source": []
    }
  ],
  "metadata": {
    "accelerator": "GPU",
    "colab": {
      "gpuType": "T4",
      "provenance": []
    },
    "kernelspec": {
      "display_name": "Python 3",
      "name": "python3"
    },
    "language_info": {
      "name": "python"
    }
  },
  "nbformat": 4,
  "nbformat_minor": 0
}
