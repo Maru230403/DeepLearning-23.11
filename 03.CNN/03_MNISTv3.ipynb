{
  "nbformat": 4,
  "nbformat_minor": 0,
  "metadata": {
    "colab": {
      "provenance": [],
      "gpuType": "T4"
    },
    "kernelspec": {
      "name": "python3",
      "display_name": "Python 3"
    },
    "language_info": {
      "name": "python"
    },
    "accelerator": "GPU"
  },
  "cells": [
    {
      "cell_type": "markdown",
      "source": [
        "## MNIST 손글씨 - CNN v3\n",
        "- 2 x Conv2D layers\n",
        "- 1 MaxPooling2D layer\n",
        "- 1 Dropout(0.25) layer\n",
        "- 1 FCN layer\n",
        "- 1 Dropout(0.5) layer\n",
        "- 1 Output layer"
      ],
      "metadata": {
        "id": "PrROauOYfCwt"
      }
    },
    {
      "cell_type": "code",
      "source": [
        "import numpy as np\n",
        "import matplotlib.pyplot as plt\n",
        "import tensorflow as tf\n",
        "seed = 2023\n",
        "np.random.seed(seed)\n",
        "tf.random.set_seed(seed)"
      ],
      "metadata": {
        "id": "CETJ8PQNfCjE"
      },
      "execution_count": 1,
      "outputs": []
    },
    {
      "cell_type": "code",
      "source": [
        "tf.__version__"
      ],
      "metadata": {
        "colab": {
          "base_uri": "https://localhost:8080/",
          "height": 35
        },
        "id": "CfgQ5rvEfi7U",
        "outputId": "93b1d97a-c47a-48e4-8ead-bc57268b45ba"
      },
      "execution_count": 2,
      "outputs": [
        {
          "output_type": "execute_result",
          "data": {
            "text/plain": [
              "'2.14.0'"
            ],
            "application/vnd.google.colaboratory.intrinsic+json": {
              "type": "string"
            }
          },
          "metadata": {},
          "execution_count": 2
        }
      ]
    },
    {
      "cell_type": "markdown",
      "source": [
        "- 데이터 전처리"
      ],
      "metadata": {
        "id": "jjD-pNGLfgRW"
      }
    },
    {
      "cell_type": "code",
      "execution_count": 3,
      "metadata": {
        "colab": {
          "base_uri": "https://localhost:8080/"
        },
        "id": "1Yy8Kzkte9tE",
        "outputId": "2d7178b7-0122-4c17-84ed-d21e6e9fa79a"
      },
      "outputs": [
        {
          "output_type": "stream",
          "name": "stdout",
          "text": [
            "Downloading data from https://storage.googleapis.com/tensorflow/tf-keras-datasets/mnist.npz\n",
            "11490434/11490434 [==============================] - 0s 0us/step\n"
          ]
        },
        {
          "output_type": "execute_result",
          "data": {
            "text/plain": [
              "((60000, 28, 28), (60000,), (10000, 28, 28), (10000,))"
            ]
          },
          "metadata": {},
          "execution_count": 3
        }
      ],
      "source": [
        "from tensorflow.keras.datasets import mnist\n",
        "(X_train, y_train), (X_test, y_test) = mnist.load_data()\n",
        "X_train.shape, y_train.shape, X_test.shape, y_test.shape"
      ]
    },
    {
      "cell_type": "code",
      "source": [
        "# X data의 차원 변경 및 정규화(0 ~1)\n",
        "X_train = X_train.reshape(-1, 28, 28, 1) / 255.\n",
        "X_test = X_test.reshape(-1, 28, 28, 1) / 255."
      ],
      "metadata": {
        "id": "eZHlbElef9_5"
      },
      "execution_count": 4,
      "outputs": []
    },
    {
      "cell_type": "code",
      "source": [
        "# y_data의 one-hot-encoding\n",
        "from tensorflow.keras.utils import to_categorical\n",
        "Y_train = to_categorical(y_train)\n",
        "Y_test = to_categorical(y_test)\n",
        "Y_train.shape, Y_test.shape"
      ],
      "metadata": {
        "colab": {
          "base_uri": "https://localhost:8080/"
        },
        "id": "l8AdSxyZgcv9",
        "outputId": "018d49df-7424-40cd-8689-5a7e0c1720f5"
      },
      "execution_count": 5,
      "outputs": [
        {
          "output_type": "execute_result",
          "data": {
            "text/plain": [
              "((60000, 10), (10000, 10))"
            ]
          },
          "metadata": {},
          "execution_count": 5
        }
      ]
    },
    {
      "cell_type": "markdown",
      "source": [
        "- 모델 정의/설정/학습/평가"
      ],
      "metadata": {
        "id": "3zAw1sJog-He"
      }
    },
    {
      "cell_type": "code",
      "source": [
        "from tensorflow.keras.models import Sequential, load_model\n",
        "from tensorflow.keras.layers import Conv2D, Dense, Flatten, MaxPooling2D, Dropout\n",
        "from tensorflow.keras.callbacks import ModelCheckpoint, EarlyStopping"
      ],
      "metadata": {
        "id": "Hdae3WDKg9YZ"
      },
      "execution_count": 6,
      "outputs": []
    },
    {
      "cell_type": "code",
      "source": [
        "model = Sequential([\n",
        "    Conv2D(32, kernel_size=(3,3), input_shape=(28,28,1), activation='relu'),\n",
        "    Conv2D(64, (3,3), activation='relu'),\n",
        "    MaxPooling2D(),           # MaxPooling2D(pool_size=(2,2))\n",
        "    Dropout(0.25),\n",
        "    Flatten(),\n",
        "    Dropout(0.5),\n",
        "    Dense(512, activation='relu'),\n",
        "    Dense(10, activation='softmax')\n",
        "])\n",
        "model.summary()"
      ],
      "metadata": {
        "colab": {
          "base_uri": "https://localhost:8080/"
        },
        "id": "RrrWwUEChcxp",
        "outputId": "f71ada01-fa55-419a-d63d-bbbe1063d65f"
      },
      "execution_count": 7,
      "outputs": [
        {
          "output_type": "stream",
          "name": "stdout",
          "text": [
            "Model: \"sequential\"\n",
            "_________________________________________________________________\n",
            " Layer (type)                Output Shape              Param #   \n",
            "=================================================================\n",
            " conv2d (Conv2D)             (None, 26, 26, 32)        320       \n",
            "                                                                 \n",
            " conv2d_1 (Conv2D)           (None, 24, 24, 64)        18496     \n",
            "                                                                 \n",
            " max_pooling2d (MaxPooling2  (None, 12, 12, 64)        0         \n",
            " D)                                                              \n",
            "                                                                 \n",
            " dropout (Dropout)           (None, 12, 12, 64)        0         \n",
            "                                                                 \n",
            " flatten (Flatten)           (None, 9216)              0         \n",
            "                                                                 \n",
            " dropout_1 (Dropout)         (None, 9216)              0         \n",
            "                                                                 \n",
            " dense (Dense)               (None, 512)               4719104   \n",
            "                                                                 \n",
            " dense_1 (Dense)             (None, 10)                5130      \n",
            "                                                                 \n",
            "=================================================================\n",
            "Total params: 4743050 (18.09 MB)\n",
            "Trainable params: 4743050 (18.09 MB)\n",
            "Non-trainable params: 0 (0.00 Byte)\n",
            "_________________________________________________________________\n"
          ]
        }
      ]
    },
    {
      "cell_type": "code",
      "source": [
        "model.compile('adam', 'categorical_crossentropy', metrics=['accuracy'])"
      ],
      "metadata": {
        "id": "G1l7FAxQiOOJ"
      },
      "execution_count": 8,
      "outputs": []
    },
    {
      "cell_type": "code",
      "source": [
        "!mkdir models\n",
        "!ls -l"
      ],
      "metadata": {
        "colab": {
          "base_uri": "https://localhost:8080/"
        },
        "id": "bL0Gl8A_kNce",
        "outputId": "f60ca9c7-7b4a-42ac-c443-b23927f90745"
      },
      "execution_count": 9,
      "outputs": [
        {
          "output_type": "stream",
          "name": "stdout",
          "text": [
            "total 8\n",
            "drwxr-xr-x 2 root root 4096 Nov  8 02:13 models\n",
            "drwxr-xr-x 1 root root 4096 Nov  6 14:20 sample_data\n"
          ]
        }
      ]
    },
    {
      "cell_type": "code",
      "source": [
        "model_path = 'models/best-mnist-v3.h5'\n",
        "mc = ModelCheckpoint(model_path, save_best_only=True, verbose=1)   # save_best_only= 항상 기본값이 False이다\n",
        "es = EarlyStopping(patience=5)"
      ],
      "metadata": {
        "id": "fRhDpMyXj9i_"
      },
      "execution_count": 10,
      "outputs": []
    },
    {
      "cell_type": "code",
      "source": [
        "hist = model.fit(\n",
        "    X_train, Y_train, validation_split=0.2, epochs=100, batch_size=256,\n",
        "    callbacks=[mc, es]\n",
        ")"
      ],
      "metadata": {
        "colab": {
          "base_uri": "https://localhost:8080/"
        },
        "id": "HxWmR6bDlDi9",
        "outputId": "61b86fb1-3e39-43e2-9eee-c7c65eec1b48"
      },
      "execution_count": 11,
      "outputs": [
        {
          "output_type": "stream",
          "name": "stdout",
          "text": [
            "Epoch 1/100\n",
            "188/188 [==============================] - ETA: 0s - loss: 0.2249 - accuracy: 0.9304\n",
            "Epoch 1: val_loss improved from inf to 0.05967, saving model to models/best-mnist-v3.h5\n",
            "188/188 [==============================] - 18s 24ms/step - loss: 0.2249 - accuracy: 0.9304 - val_loss: 0.0597 - val_accuracy: 0.9826\n",
            "Epoch 2/100\n"
          ]
        },
        {
          "output_type": "stream",
          "name": "stderr",
          "text": [
            "/usr/local/lib/python3.10/dist-packages/keras/src/engine/training.py:3079: UserWarning: You are saving your model as an HDF5 file via `model.save()`. This file format is considered legacy. We recommend using instead the native Keras format, e.g. `model.save('my_model.keras')`.\n",
            "  saving_api.save_model(\n"
          ]
        },
        {
          "output_type": "stream",
          "name": "stdout",
          "text": [
            "185/188 [============================>.] - ETA: 0s - loss: 0.0690 - accuracy: 0.9784\n",
            "Epoch 2: val_loss improved from 0.05967 to 0.04360, saving model to models/best-mnist-v3.h5\n",
            "188/188 [==============================] - 3s 18ms/step - loss: 0.0690 - accuracy: 0.9783 - val_loss: 0.0436 - val_accuracy: 0.9868\n",
            "Epoch 3/100\n",
            "186/188 [============================>.] - ETA: 0s - loss: 0.0499 - accuracy: 0.9842\n",
            "Epoch 3: val_loss improved from 0.04360 to 0.03710, saving model to models/best-mnist-v3.h5\n",
            "188/188 [==============================] - 3s 18ms/step - loss: 0.0498 - accuracy: 0.9842 - val_loss: 0.0371 - val_accuracy: 0.9880\n",
            "Epoch 4/100\n",
            "187/188 [============================>.] - ETA: 0s - loss: 0.0364 - accuracy: 0.9884\n",
            "Epoch 4: val_loss improved from 0.03710 to 0.03470, saving model to models/best-mnist-v3.h5\n",
            "188/188 [==============================] - 3s 17ms/step - loss: 0.0363 - accuracy: 0.9885 - val_loss: 0.0347 - val_accuracy: 0.9896\n",
            "Epoch 5/100\n",
            "188/188 [==============================] - ETA: 0s - loss: 0.0293 - accuracy: 0.9904\n",
            "Epoch 5: val_loss did not improve from 0.03470\n",
            "188/188 [==============================] - 3s 18ms/step - loss: 0.0293 - accuracy: 0.9904 - val_loss: 0.0382 - val_accuracy: 0.9897\n",
            "Epoch 6/100\n",
            "188/188 [==============================] - ETA: 0s - loss: 0.0228 - accuracy: 0.9924\n",
            "Epoch 6: val_loss did not improve from 0.03470\n",
            "188/188 [==============================] - 3s 17ms/step - loss: 0.0228 - accuracy: 0.9924 - val_loss: 0.0379 - val_accuracy: 0.9887\n",
            "Epoch 7/100\n",
            "185/188 [============================>.] - ETA: 0s - loss: 0.0178 - accuracy: 0.9943\n",
            "Epoch 7: val_loss did not improve from 0.03470\n",
            "188/188 [==============================] - 3s 17ms/step - loss: 0.0178 - accuracy: 0.9942 - val_loss: 0.0369 - val_accuracy: 0.9909\n",
            "Epoch 8/100\n",
            "185/188 [============================>.] - ETA: 0s - loss: 0.0185 - accuracy: 0.9937\n",
            "Epoch 8: val_loss improved from 0.03470 to 0.03139, saving model to models/best-mnist-v3.h5\n",
            "188/188 [==============================] - 3s 17ms/step - loss: 0.0187 - accuracy: 0.9936 - val_loss: 0.0314 - val_accuracy: 0.9916\n",
            "Epoch 9/100\n",
            "188/188 [==============================] - ETA: 0s - loss: 0.0153 - accuracy: 0.9942\n",
            "Epoch 9: val_loss did not improve from 0.03139\n",
            "188/188 [==============================] - 3s 18ms/step - loss: 0.0153 - accuracy: 0.9942 - val_loss: 0.0328 - val_accuracy: 0.9907\n",
            "Epoch 10/100\n",
            "187/188 [============================>.] - ETA: 0s - loss: 0.0133 - accuracy: 0.9953\n",
            "Epoch 10: val_loss did not improve from 0.03139\n",
            "188/188 [==============================] - 3s 17ms/step - loss: 0.0133 - accuracy: 0.9953 - val_loss: 0.0335 - val_accuracy: 0.9904\n",
            "Epoch 11/100\n",
            "188/188 [==============================] - ETA: 0s - loss: 0.0122 - accuracy: 0.9955\n",
            "Epoch 11: val_loss did not improve from 0.03139\n",
            "188/188 [==============================] - 3s 17ms/step - loss: 0.0122 - accuracy: 0.9955 - val_loss: 0.0336 - val_accuracy: 0.9911\n",
            "Epoch 12/100\n",
            "187/188 [============================>.] - ETA: 0s - loss: 0.0096 - accuracy: 0.9968\n",
            "Epoch 12: val_loss did not improve from 0.03139\n",
            "188/188 [==============================] - 3s 18ms/step - loss: 0.0096 - accuracy: 0.9968 - val_loss: 0.0327 - val_accuracy: 0.9912\n",
            "Epoch 13/100\n",
            "187/188 [============================>.] - ETA: 0s - loss: 0.0099 - accuracy: 0.9968\n",
            "Epoch 13: val_loss did not improve from 0.03139\n",
            "188/188 [==============================] - 3s 18ms/step - loss: 0.0099 - accuracy: 0.9968 - val_loss: 0.0320 - val_accuracy: 0.9917\n"
          ]
        }
      ]
    },
    {
      "cell_type": "code",
      "source": [
        "best_model = load_model(model_path)\n",
        "best_model.evaluate(X_test, Y_test)"
      ],
      "metadata": {
        "colab": {
          "base_uri": "https://localhost:8080/"
        },
        "id": "bOA8O34flaCi",
        "outputId": "61d0e623-35ce-4a6e-afb2-72225ef9730b"
      },
      "execution_count": 12,
      "outputs": [
        {
          "output_type": "stream",
          "name": "stdout",
          "text": [
            "313/313 [==============================] - 1s 3ms/step - loss: 0.0261 - accuracy: 0.9915\n"
          ]
        },
        {
          "output_type": "execute_result",
          "data": {
            "text/plain": [
              "[0.02607121877372265, 0.9915000200271606]"
            ]
          },
          "metadata": {},
          "execution_count": 12
        }
      ]
    },
    {
      "cell_type": "code",
      "source": [
        "y_acc = hist.history['accuracy']\n",
        "y_vloss = hist.history['val_loss']\n",
        "xs = np.arange(1, len(y_acc)+1)"
      ],
      "metadata": {
        "id": "Nz53Sljhmd8P"
      },
      "execution_count": 13,
      "outputs": []
    },
    {
      "cell_type": "code",
      "source": [
        "plt.figure(figsize=(12,6))\n",
        "plt.plot(xs, y_acc, label='train accuracy')\n",
        "plt.plot(xs, y_vloss, label='validation loss')\n",
        "plt.legend(), plt.grid(), plt.xlabel('epoch')\n",
        "plt.title('MNIST CNN Model v3')\n",
        "plt.show()"
      ],
      "metadata": {
        "colab": {
          "base_uri": "https://localhost:8080/",
          "height": 495
        },
        "id": "8Y7uNXP9mzDZ",
        "outputId": "e1d8079e-d659-4dbb-99dd-9e037ebfd84b"
      },
      "execution_count": 15,
      "outputs": [
        {
          "output_type": "display_data",
          "data": {
            "text/plain": [
              "<Figure size 1200x600 with 1 Axes>"
            ],
            "image/png": "[encoded data removed]"
          },
          "metadata": {}
        }
      ]
    },
    {
      "cell_type": "code",
      "source": [],
      "metadata": {
        "id": "Uv96YoSym1U-"
      },
      "execution_count": 14,
      "outputs": []
    }
  ]
}